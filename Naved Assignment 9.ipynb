{
 "cells": [
  {
   "cell_type": "markdown",
   "id": "dfa3dba9-273e-4bea-8da2-6b981ae49043",
   "metadata": {},
   "source": [
    "1) Write a Python program that attempts to divide a number by zero within a try block. Catch the resulting ZeroDivisionError and print a custom message.\n"
   ]
  },
  {
   "cell_type": "code",
   "execution_count": null,
   "id": "40650408-13df-421f-a7ae-4167b340b9d5",
   "metadata": {},
   "outputs": [],
   "source": [
    "try:\n",
    "    print(1/0)\n",
    "except:\n",
    "    print(\"You cant divide any number by zero\")"
   ]
  },
  {
   "cell_type": "markdown",
   "id": "7a360fd0-a23d-4767-af32-cbe4be299409",
   "metadata": {},
   "source": [
    "2) Write a Python program that attempts to print an undefined variable within a try block. Catch the resulting NameError and print \"Variable is not defined\"."
   ]
  },
  {
   "cell_type": "code",
   "execution_count": null,
   "id": "7d0c93aa-92a2-42b0-b512-7da9eef437cf",
   "metadata": {},
   "outputs": [],
   "source": [
    "try:\n",
    "    print(x)\n",
    "except:\n",
    "    print(\"You didn't define the value of variable\")"
   ]
  },
  {
   "cell_type": "markdown",
   "id": "1e5a3c87-69bb-418a-83e6-02288ddaee42",
   "metadata": {},
   "source": [
    "3) Write a Python program that attempts to open a non-existent file. Catch the resulting FileNotFoundError, print an error message, and ensure that a finally block prints \"Operation finished\" regardless of the outcome."
   ]
  },
  {
   "cell_type": "code",
   "execution_count": null,
   "id": "17d809d3-442c-4814-806f-e0def6e93fb4",
   "metadata": {},
   "outputs": [],
   "source": [
    "try:\n",
    "    f = open(\"my.txt\")\n",
    "except:\n",
    "    print(\"Your file doesn't exist in directory\")\n",
    "finally:\n",
    "    print(\"Operation finished\")"
   ]
  },
  {
   "cell_type": "markdown",
   "id": "8fa5932b-83ea-4c6c-bd7a-d9ed214e4948",
   "metadata": {},
   "source": [
    "4) Write a Python program that uses a try block to check if a number is positive. If the number is positive, use the else block to print \"The number is positive\". Catch any exceptions that occur during the check."
   ]
  },
  {
   "cell_type": "code",
   "execution_count": null,
   "id": "77e4f9d7-71b2-4da4-80b6-d7398a2f1002",
   "metadata": {},
   "outputs": [],
   "source": [
    "import sys\n",
    "try:\n",
    "    num = int(input(\"Enter a number: \"))\n",
    "    if num > 0:\n",
    "        print(\"The number is positive.\")\n",
    "    else:\n",
    "        print(\"The number is not positive.\")\n",
    "        sys.exit()  # Program yahan terminate hoga\n",
    "except ValueError:\n",
    "    print(\"Invalid input! Please enter a number.\")\n",
    "\n",
    "print(\"This will not print if the program terminates.\")  # Yeh tabhi chalega agar `exit()` execute na ho\n"
   ]
  },
  {
   "cell_type": "markdown",
   "id": "4782803f-26a7-4033-849c-812b66a8fa06",
   "metadata": {},
   "source": [
    "5) Write a Python program that raises a ValueError if a variable age is set to a negative number. Include a custom error message that states \"Age cannot be negative\".|"
   ]
  },
  {
   "cell_type": "code",
   "execution_count": null,
   "id": "0ee29a03-d492-43ba-9d0d-8e2c3cff34e0",
   "metadata": {},
   "outputs": [],
   "source": [
    "x = float(input(\"Enter you age (it can be in decimal): \"))\n",
    "\n",
    "if x <= 0:\n",
    "  raise Exception(\"Sorry, no numbers below zero\")\n",
    "# Yahan pe jo Exception likha hai woh ek error ka name hai jo ki predifined hai aur isme ham apni taraf se koi error ka name nahin de sakte hame pehle se diya hua name hi dena padega \n",
    "else:\n",
    "  print(\"Your age is :\"+str(x))"
   ]
  },
  {
   "cell_type": "code",
   "execution_count": null,
   "id": "6e4e086f-4ea6-4b5e-9def-c41f92b3eed6",
   "metadata": {},
   "outputs": [],
   "source": []
  }
 ],
 "metadata": {
  "kernelspec": {
   "display_name": "Python 3 (ipykernel)",
   "language": "python",
   "name": "python3"
  },
  "language_info": {
   "codemirror_mode": {
    "name": "ipython",
    "version": 3
   },
   "file_extension": ".py",
   "mimetype": "text/x-python",
   "name": "python",
   "nbconvert_exporter": "python",
   "pygments_lexer": "ipython3",
   "version": "3.13.0"
  }
 },
 "nbformat": 4,
 "nbformat_minor": 5
}
