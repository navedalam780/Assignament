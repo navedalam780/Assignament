{
  "nbformat": 4,
  "nbformat_minor": 0,
  "metadata": {
    "colab": {
      "provenance": []
    },
    "kernelspec": {
      "name": "python3",
      "display_name": "Python 3"
    },
    "language_info": {
      "name": "python"
    }
  },
  "cells": [
    {
      "cell_type": "code",
      "execution_count": null,
      "metadata": {
        "id": "GuCySrsaSz7d"
      },
      "outputs": [],
      "source": [
        "# 1.) Create a base class `Animal` with attributes `name` and `species`, and a method `describe` to print them. Create a derived class `Dog` with an additional attribute `breed` and a method `bark` to print \"Woof! Woof!\". Instantiate a `Dog` object and call its methods.\n",
        "\n",
        "class animal: # Base Class / Parent Class\n",
        "  def __init__(self, animal_name, animal_species):\n",
        "    self.animal_name = animal_name\n",
        "    self.animal_species = animal_species\n",
        "\n",
        "\n",
        "class dog(animal): # Child Class / Derived Class\n",
        "  def __init__(self, name, species, breed, bark):\n",
        "    self.breed = breed\n",
        "    self.bark = bark\n",
        "    super().__init__(name, species)\n",
        "\n",
        "  def dog_describe(self): # This function access the function of base claas\n",
        "    print(\"Animal name is \"+self.animal_name)\n",
        "    print(\"Animal species name is \"+self.animal_species)\n",
        "  def bark_and_breed(self): #This function belongs to dog class\n",
        "    print(\"Breed is \"+ self.breed)\n",
        "    print(\"Bark is \"+ self.bark)\n",
        "\n",
        "Dog1 = dog(\"Tommy\", \"German Shephered\", \"Pedegree\",\"Woof! Woof!\")\n",
        "\n",
        "Dog1.dog_describe()  # This function access the function of base claas\n",
        "\n",
        "Dog1.bark_and_breed() #This function belongs to dog class\n",
        "\n",
        "\n",
        "\n"
      ]
    },
    {
      "cell_type": "code",
      "source": [
        "# 2. ) Define a class `Person` with attributes `first_name` and `last_name`, and a method `print_name`. Create a derived class `Employee` with an additional attribute `employee_id`. Use the `super()` method to initialize the inherited attributes. Add a method `print_employee_info`. Instantiate an `Employee` object and call its methods.\n",
        "\n",
        "class Person:\n",
        "  def __init__(self, first_name, last_name):\n",
        "    self.first_name= first_name\n",
        "    self.last_name = last_name\n",
        "  def print_name(self):\n",
        "    print(\"First name is \"+ self.first_name)\n",
        "    print(\"Last name is \"+ self.last_name)\n",
        "\n",
        "class Employee(Person):\n",
        "  def __init__(self, employee_id, fname, lname):\n",
        "    self.employee_id = employee_id\n",
        "    super().__init__(fname, lname)\n",
        "\n",
        "  def print_employee_info(self):\n",
        "    self.print_name()\n",
        "    print(\"Its Employee Id is \"+self.employee_id)\n",
        "\n",
        "Emp1 = Employee(\"Walmart-012465\", \"Parwati\", \"Rajwade\")\n",
        "Emp1.print_employee_info()"
      ],
      "metadata": {
        "id": "vVdkE2Ckiaaj"
      },
      "execution_count": null,
      "outputs": []
    },
    {
      "cell_type": "code",
      "source": [
        "# 3. ) Define a class `Shape` with a method `area` returning 0. Create derived classes `Circle` and `Rectangle`, overriding the `area` method to return the actual area. Instantiate objects of `Circle` and `Rectangle` and print their areas.\n",
        "\n",
        "\n",
        "class Shape:\n",
        "  def __init__(self, area):\n",
        "    self.area = area\n",
        "  def area(self):\n",
        "    return self.area\n",
        "\n",
        "\n",
        "class circle(Shape):\n",
        "  def __init__(self, radius):\n",
        "    self.radius = radius\n",
        "\n",
        "  def area(self):\n",
        "    return 3.14 * (self.radius**2)\n",
        "\n",
        "\n",
        "class rectangle(Shape):\n",
        "  def __init__(self, length, width):\n",
        "    self.length = length\n",
        "    self.width = width\n",
        "\n",
        "  def area(self):\n",
        "    return self.length * self.width\n",
        "\n",
        "circle1 = circle(7)\n",
        "print(f\"Area of circle is {circle1.area()}\")\n",
        "\n",
        "rectangle1 = rectangle(5,4)\n",
        "print(f\"Area of circle is {rectangle1.area()}\")\n",
        "\n",
        "\n",
        "\n",
        "\n",
        "\n"
      ],
      "metadata": {
        "id": "YjPtMW6pQGzy"
      },
      "execution_count": null,
      "outputs": []
    },
    {
      "cell_type": "code",
      "source": [
        "# 4.)Create base classes `Flying` with a method `fly` and `Swimming` with a method `swim`. Create a derived class `Duck` inheriting from both, with an additional method `quack`. Instantiate a `Duck` object and call all its methods.\n",
        "class Flying:\n",
        "  def __init__(self):\n",
        "    pass\n",
        "  def fly(self):\n",
        "    print('Yes it can fly')\n",
        "\n",
        "class Swimming:\n",
        "  def __init__(self):\n",
        "    pass\n",
        "  def swim(self):\n",
        "    print('Yes it can swim')\n",
        "\n",
        "class Duck(Flying, Swimming):\n",
        "  def __init__(self):\n",
        "    pass\n",
        "  def quack(self):\n",
        "    print(\"Yes it's voice is quack-quack\" )\n",
        "\n",
        "d1 = Duck()\n",
        "\n",
        "d1.swim()\n",
        "\n",
        "d1.fly()\n",
        "\n",
        "\n"
      ],
      "metadata": {
        "id": "2wN-zOj0o1eh"
      },
      "execution_count": null,
      "outputs": []
    },
    {
      "cell_type": "code",
      "source": [
        "# 5.)  Define class `A` with a method `method_A`, and class `E` with a method `method_E`. Create class `B` inheriting from `A` with a method `method_B`, and class `C` inheriting from `A` and `E` with a method `method_C`. Define class `D` inheriting from both `B` and `C` with a method `method_D`. Instantiate a `D` object and call all its methods.\n",
        "\n",
        "class A:\n",
        "  def mathod_a(self):\n",
        "    print(\"You are in class A\")\n",
        "\n",
        "class E:\n",
        "  def mathod_e(self):\n",
        "    print(\"You are in class E\")\n",
        "\n",
        "class B(A):\n",
        "  def mathod_b(self):\n",
        "    print(\"You are in class B\")\n",
        "\n",
        "class C(A, E):\n",
        "  def mathod_c(self):\n",
        "    print(\"You are in class C\")\n",
        "\n",
        "class D(B, C):\n",
        "  def mathod_d(self):\n",
        "    print(\"You are in class D\")\n",
        "\n",
        "\n",
        "D1 = D()\n",
        "\n",
        "D1.mathod_a()\n",
        "D1.mathod_b()\n",
        "D1.mathod_c()\n",
        "D1.mathod_d()\n",
        "D1.mathod_e()\n",
        "\n",
        "\n",
        "\n",
        "\n"
      ],
      "metadata": {
        "id": "F1WhdRcdtjIo"
      },
      "execution_count": null,
      "outputs": []
    },
    {
      "cell_type": "code",
      "source": [],
      "metadata": {
        "id": "AjRP9_6SvRER"
      },
      "execution_count": null,
      "outputs": []
    }
  ]
}