{
 "cells": [
  {
   "cell_type": "markdown",
   "metadata": {
    "id": "au1H1JJdVsr8"
   },
   "source": [
    "## 1. Date Module Operations\n",
    "1. Display the current date and time."
   ]
  },
  {
   "cell_type": "code",
   "execution_count": null,
   "metadata": {
    "colab": {
     "base_uri": "https://localhost:8080/"
    },
    "id": "iClGaKsgV5SC",
    "outputId": "c20fc54f-3ead-4320-e987-38836ca81b7c"
   },
   "outputs": [],
   "source": [
    "import datetime\n",
    "\n",
    "currunt_date = datetime.datetime.now()\n",
    "print(currunt_date)\n",
    "\n"
   ]
  },
  {
   "cell_type": "markdown",
   "metadata": {
    "id": "Urx28O87WrPc"
   },
   "source": [
    " 2. Create a date object for `July 4, 2022`, and print it."
   ]
  },
  {
   "cell_type": "code",
   "execution_count": null,
   "metadata": {
    "colab": {
     "base_uri": "https://localhost:8080/"
    },
    "id": "vCwJEHI7WKil",
    "outputId": "0cd00dce-5370-4a88-ae6b-3fea034e0ffe"
   },
   "outputs": [],
   "source": [
    "import datetime\n",
    "\n",
    "d = date(2022,7,4)\n",
    "\n",
    "print(d)\n"
   ]
  },
  {
   "cell_type": "markdown",
   "metadata": {
    "id": "jW5_YirJXE4V"
   },
   "source": [
    "3. Extract and display the name of the month from the date object `December 15, 2021`."
   ]
  },
  {
   "cell_type": "code",
   "execution_count": null,
   "metadata": {
    "colab": {
     "base_uri": "https://localhost:8080/"
    },
    "id": "AhsseBf3XBHc",
    "outputId": "230e5e33-412c-4f37-93e5-69eab299d669"
   },
   "outputs": [],
   "source": [
    "import datetime\n",
    "\n",
    "d = date(2021,12,15)\n",
    "\n",
    "print(d.strftime(\"%B\"))\n"
   ]
  },
  {
   "cell_type": "markdown",
   "metadata": {
    "id": "RFFI95CyXibM"
   },
   "source": [
    "## 2. Mathematical Calculations with `math` Module\n",
    "  1. Compute and print the square root of `81`."
   ]
  },
  {
   "cell_type": "code",
   "execution_count": null,
   "metadata": {
    "colab": {
     "base_uri": "https://localhost:8080/"
    },
    "id": "B2NtBtYbXe1f",
    "outputId": "15058a4b-acbd-463c-ef9b-21e7a65768d0"
   },
   "outputs": [],
   "source": [
    "import math\n",
    "\n",
    "sr = pow(81,1/2)\n",
    "print(int(sr))"
   ]
  },
  {
   "cell_type": "markdown",
   "metadata": {
    "id": "NYcx9xi3YaXb"
   },
   "source": [
    "2. Find and display the ceiling and floor values of `8.3`."
   ]
  },
  {
   "cell_type": "code",
   "execution_count": null,
   "metadata": {
    "colab": {
     "base_uri": "https://localhost:8080/"
    },
    "id": "Ap095XxvYO7F",
    "outputId": "8077aa15-30fb-4b20-d0c2-5170601edf71"
   },
   "outputs": [],
   "source": [
    "import math\n",
    "\n",
    "print(math.ceil(8.3))\n",
    "\n",
    "print(math.floor(8.3))"
   ]
  },
  {
   "cell_type": "markdown",
   "metadata": {
    "id": "l_vMtOo5YuEm"
   },
   "source": [
    " 3. Calculate and print `2` raised to the power of `5`.\n"
   ]
  },
  {
   "cell_type": "code",
   "execution_count": null,
   "metadata": {},
   "outputs": [],
   "source": [
    "import math\n",
    "\n",
    "print(pow(5,2))\n"
   ]
  },
  {
   "cell_type": "markdown",
   "metadata": {},
   "source": [
    " 4. Print the value of π (pi) from the `math` module."
   ]
  },
  {
   "cell_type": "code",
   "execution_count": null,
   "metadata": {},
   "outputs": [],
   "source": [
    "import math\n",
    "\n",
    "print(round(math.pi,2))"
   ]
  },
  {
   "cell_type": "markdown",
   "metadata": {},
   "source": [
    "## 3. Polymorphism in Built-in and Custom Classes\n",
    "###     -- Demonstrate polymorphism by:\n",
    "1. Using the `len()` function on a string (`\"Python\"`), a tuple (`(1, 2, 3)`), and a dictionary (`{\"name\": \"John\", \"age\": 30}`) and print their lengths."
   ]
  },
  {
   "cell_type": "code",
   "execution_count": null,
   "metadata": {},
   "outputs": [],
   "source": [
    "print(len(\"Python\"))\n",
    "print(len((1, 2, 3)))\n",
    "print(len({\"name\": \"John\", \"age\": 30})) \n",
    "\n"
   ]
  },
  {
   "cell_type": "markdown",
   "metadata": {},
   "source": [
    " 2. (Important) Define three classes: `Dog`, `Cat`, and `Bird`. Each class should have a `speak` method that prints a unique sound. Create an instance of each class and use a loop to call their `speak` methods. "
   ]
  },
  {
   "cell_type": "code",
   "execution_count": null,
   "metadata": {},
   "outputs": [],
   "source": [
    "class Dog:\n",
    "    def speak(self):\n",
    "        print(\"Bhow Bhow!\")\n",
    "\n",
    "class Cat:\n",
    "    def speak(self):\n",
    "        print(\"Meaw!\")\n",
    "\n",
    "class Bird:\n",
    "    def speak(self):\n",
    "        print(\"Chirp! Chirp!\")\n",
    "\n",
    "d = Dog()\n",
    "c = Cat()\n",
    "b = Bird()\n",
    "\n",
    "animal = [d,c,b]\n",
    "\n",
    "for i in animal:\n",
    "    i.speak()     \n",
    "\n",
    "## agar idhar pe print(i.speak()) likhenge to neeche diye gaye output ki tarah aayega \n",
    "\n",
    "\n",
    "\n",
    "\n",
    "              "
   ]
  },
  {
   "cell_type": "markdown",
   "metadata": {},
   "source": [
    "## 4. File Handling: Creation, Reading, and Appending\n",
    " 1. Create a file named `notes.txt` and write `\"First Line\"` into it.\n",
    "\n",
    "\n",
    "\n"
   ]
  },
  {
   "cell_type": "code",
   "execution_count": null,
   "metadata": {},
   "outputs": [],
   "source": [
    "f = open(\"notes.txt\",\"x\")\n",
    "f.close()"
   ]
  },
  {
   "cell_type": "code",
   "execution_count": null,
   "metadata": {},
   "outputs": [],
   "source": [
    "f = open(\"notes.txt\",\"w\")\n",
    "f.write(\"First Line\")\n",
    "f.close()\n"
   ]
  },
  {
   "cell_type": "markdown",
   "metadata": {},
   "source": [
    "  2. Open `notes.txt` and read its contents. Print the content to the console."
   ]
  },
  {
   "cell_type": "code",
   "execution_count": null,
   "metadata": {},
   "outputs": [],
   "source": [
    "f = open(\"notes.txt\",\"r\")\n",
    "# f.readline()   ## Only for first line \n",
    "\n",
    "# f.readlines()  ## for all the lines\n",
    "\n",
    "## lekin ek time me ek readline() or readlines me se ek hi function istemaal karna hai \n",
    "\n",
    "f.close()\n"
   ]
  },
  {
   "cell_type": "markdown",
   "metadata": {},
   "source": [
    "3. Append `\"Second Line\"` to `notes.txt`."
   ]
  },
  {
   "cell_type": "code",
   "execution_count": null,
   "metadata": {},
   "outputs": [],
   "source": [
    "f = open(\"notes.txt\",\"a\")\n",
    "\n",
    "f.write(\"\\nSecond Line\")\n",
    "\n",
    "\n",
    "\n"
   ]
  },
  {
   "cell_type": "markdown",
   "metadata": {},
   "source": [
    "4. Open and read the updated contents of `notes.txt`, and print the results."
   ]
  },
  {
   "cell_type": "code",
   "execution_count": null,
   "metadata": {},
   "outputs": [],
   "source": [
    "f = open(\"notes.txt\",\"r\")\n",
    "\n",
    "f.readlines()\n"
   ]
  },
  {
   "cell_type": "markdown",
   "metadata": {},
   "source": [
    "## 5. File Handling: Checking Existence and Deleting\n",
    "1. Check if a file named `testfile.txt` exists in the current directory. If it does, delete the file and print `\"File deleted.\"`.  If `testfile.txt` does not exist, print `\"File does not exist.\"`."
   ]
  },
  {
   "cell_type": "code",
   "execution_count": null,
   "metadata": {},
   "outputs": [],
   "source": [
    "import os\n",
    "\n",
    "if os.path.exists(\"notes.txt\"):\n",
    "    os.remove(\"notes.txt\")\n",
    "    print(\"File Deleted\")\n",
    "else:\n",
    "    print(\"File does not exists\")"
   ]
  },
  {
   "cell_type": "code",
   "execution_count": null,
   "metadata": {},
   "outputs": [],
   "source": []
  }
 ],
 "metadata": {
  "colab": {
   "provenance": []
  },
  "kernelspec": {
   "display_name": "Python 3 (ipykernel)",
   "language": "python",
   "name": "python3"
  },
  "language_info": {
   "codemirror_mode": {
    "name": "ipython",
    "version": 3
   },
   "file_extension": ".py",
   "mimetype": "text/x-python",
   "name": "python",
   "nbconvert_exporter": "python",
   "pygments_lexer": "ipython3",
   "version": "3.13.0"
  }
 },
 "nbformat": 4,
 "nbformat_minor": 4
}
