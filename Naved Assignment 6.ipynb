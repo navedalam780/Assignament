{
 "cells": [
  {
   "cell_type": "code",
   "execution_count": null,
   "metadata": {
    "id": "oc0F_GdJ3Me6"
   },
   "outputs": [],
   "source": [
    "# 1) Write a lambda function to calculate the square of a number. Use it to print the square of 8.\n",
    "\n",
    "sqr = lambda a : a**2\n",
    "print(sqr(8))\n"
   ]
  },
  {
   "cell_type": "code",
   "execution_count": null,
   "metadata": {
    "id": "8zQgBhRG3lqh"
   },
   "outputs": [],
   "source": [
    "# 2) Create a lambda function to multiply three arguments. Use it to multiply 3, 4, and 5, then print the result\n",
    "\n",
    "multi = lambda a, b, c :a*b*c\n",
    "\n",
    "print(multi(3,4,5))\n"
   ]
  },
  {
   "cell_type": "markdown",
   "metadata": {
    "id": "30fdspvz6M-9"
   },
   "source": [
    "### This Below Code is Very Important"
   ]
  },
  {
   "cell_type": "code",
   "execution_count": null,
   "metadata": {
    "id": "3chNhEgK4TUQ"
   },
   "outputs": [],
   "source": [
    "# 3) Write a lambda function to find the maximum of two numbers. Use it to find the maximum between 10 and 20 and print the result.\n",
    "\n",
    "max = lambda a, b: print(str(a)+ \" is greater\") if a>b else print(str(b)+ \" is greater\")\n",
    "print(max(20,10))\n"
   ]
  },
  {
   "cell_type": "code",
   "execution_count": null,
   "metadata": {
    "id": "s8PFQG76Jakj"
   },
   "outputs": [],
   "source": [
    "# 4) Create a list of integers and use a lambda function with the filter method to filter out even numbers. Print the resulting list.\n",
    "this_list = [1,2,3,4,5,6,7,8,9,10]\n",
    "this_list2 = []\n",
    "for i in range(len(this_list)):\n",
    "  # if condition in the lambda function and the multiply it by every element of list for appending even numbers into the this_list2\n",
    "  if (lambda a: a%2==0)(this_list[i]):\n",
    "    this_list2.append(this_list[i])\n",
    "print(this_list2)\n",
    "\n",
    "\n"
   ]
  },
  {
   "cell_type": "code",
   "execution_count": null,
   "metadata": {
    "id": "vOqVm2H9Jmkx"
   },
   "outputs": [],
   "source": [
    "# 5) Create a class named Animal with an __init__ method that initializes species and name. Instantiate an object of this class with species \"Dog\" and name \"Buddy\", then print the species and name.\n",
    "\n",
    "\n",
    "class animal:\n",
    "\tdef __init__(self, name, voice):    # constructor initialization\n",
    "\t\tself.name= name\n",
    "\t\tself.voice= voice\n",
    "\tdef get_animal_info(self):          # mathod for getting info of animal from class\n",
    "\t\tprint(\"Animal name is \"+ self.name)\n",
    "\t\tprint(\"Animal voice is \"+ self.voice)\n",
    "\n",
    "anim1 = animal(\"Dog\",\"Bhow Bhow\")\n",
    "anim1.get_animal_info()"
   ]
  },
  {
   "cell_type": "code",
   "execution_count": null,
   "metadata": {
    "id": "BwK9cKNZ92Lm"
   },
   "outputs": [],
   "source": [
    "# 6) Create a class named Car with attributes for brand, model, and year. Add a method car_info that prints a formatted string with this information. Create an instance of the Car class and call the car_info method.\n",
    "\n",
    "class Car:\n",
    "    def __init__(self, brand, model, year):  # Constructor to initialize attributes\n",
    "        self.brand = brand\n",
    "        self.model = model\n",
    "        self.year = year\n",
    "\n",
    "    def get_data(self):  # Instance method to print car information\n",
    "        print(\"Your Car Brand is \"+ self.brand)\n",
    "        print(\"Your Car Model is \"+ self.model)\n",
    "        print(\"And This Car Belongs to the Year \"+str(self.year))\n",
    "\n",
    "# Creating an instance of Car\n",
    "car1 = Car(\"Honda\", \"Honda City\", 1981)\n",
    "\n",
    "# Calling mathod of printing info of Car\n",
    "car1.get_data()\n",
    "\n",
    "\n",
    "\n"
   ]
  },
  {
   "cell_type": "code",
   "execution_count": null,
   "metadata": {
    "id": "YUXKfq9uMjfo"
   },
   "outputs": [],
   "source": [
    "# 7) Create a class named Person with an __init__ method and a method introduce that prints a greeting including the person's name. Instantiate an object with the name \"Alice\" and call the introduce method.\n",
    "\n",
    "class person:\n",
    "  def __init__(self,name):\n",
    "    self.name = name\n",
    "  def greeting(self):\n",
    "    print(\"Hello \" + self.name +\"! How are you today?\")\n",
    "\n",
    "p1 = person(\"Alice\")\n",
    "p1.greeting()"
   ]
  },
  {
   "cell_type": "code",
   "execution_count": null,
   "metadata": {
    "id": "wsL80dlB9mMJ"
   },
   "outputs": [],
   "source": [
    "# 8) Create a class named Student with attributes for name and grades (a list of grades). Add a method average_grade that returns the average of the grades. Create an instance of the Student class, add some grades, and print the average grade.\n",
    "class student:\n",
    "  def __init__(self, student_name, Mark1, Mark2, Mark3, Mark4, Mark5):\n",
    "    self.student_name = student_name\n",
    "    self.Mark1 = Mark1\n",
    "    self.Mark2 = Mark2\n",
    "    self.Mark3 = Mark3\n",
    "    self.Mark4 = Mark4\n",
    "    self.Mark5 = Mark5\n",
    "  def get_avarage(self):\n",
    "    return (self.Mark1+ self.Mark2+ self.Mark3+ self.Mark4+ self.Mark5)/5\n",
    "\n",
    "s1 = student(\"Radhika\",85,65,95,75,84)\n",
    "\n",
    "s1.get_avarage()\n"
   ]
  },
  {
   "cell_type": "code",
   "execution_count": null,
   "metadata": {
    "id": "Qea-shXwGx--"
   },
   "outputs": [],
   "source": [
    "# 9) Create a class named Book with attributes for title, author, and year_published. Add a method book_age that calculates how old the book is from the current year. Create an instance of the Book class and print the age of the book.\n",
    "\n",
    "class Book:\n",
    "  def __init__(self, title, authore, year_published):\n",
    "    self.title = title\n",
    "    self.authore = authore\n",
    "    self.year_published = year_published\n",
    "\n",
    "  def book_age(self):\n",
    "    return 2023-self.year_published\n",
    "\n",
    "b1 = Book(\"The Alchemist\", \"Paulo Coelho\", 1988)\n",
    "\n",
    "b1.book_age()\n",
    "\n",
    "\n"
   ]
  },
  {
   "cell_type": "markdown",
   "metadata": {
    "id": "yQc5V2q2JfmF"
   },
   "source": [
    "#### This Below Code is Very Important"
   ]
  },
  {
   "cell_type": "code",
   "execution_count": null,
   "metadata": {
    "id": "-3yYvY1ZFs3b"
   },
   "outputs": [],
   "source": [
    "# 10) Write a BankAccount class with attributes for owner and balance. Add methods for deposit and withdraw. Create an instance and perform some deposits and withdrawals, then print the final balance.\n",
    "\n",
    "\n",
    "class bank_account:\n",
    "  def __init__(self,bank_bal):\n",
    "    self.bank_bal = bank_bal\n",
    "  def withdrawl(self, withdrawl_amount):\n",
    "    self.bank_bal = self.bank_bal - withdrawl_amount\n",
    "    return print(\"Your bank balance is \"+str(self.bank_bal))\n",
    "  def deposit(self, deposit_amount):\n",
    "    self.bank_bal = self.bank_bal + deposit_amount\n",
    "    return print(\"Your bank balance is \"+str(self.bank_bal))\n",
    "\n",
    "mahesh = bank_account(0)\n",
    "print('Do you want to deposit aur withdraw your amount?')\n",
    "print('Press W for withdrawl ')\n",
    "print('Press D for deposit ')\n",
    "temp = input()\n",
    "if temp=='D' or temp=='d':\n",
    "  print('How much amount you want to deposit?')\n",
    "  D = int(input())\n",
    "  mahesh.deposit(D)\n",
    "elif temp=='W' or temp=='w':\n",
    "  print('How much amount you want to withdraw?')\n",
    "  W = int(input())\n",
    "  mahesh.withdrawl(W)\n",
    "else:\n",
    "  print('You did wrong selection.')\n"
   ]
  },
  {
   "cell_type": "markdown",
   "metadata": {
    "id": "urlbXPebFg8C"
   },
   "source": [
    "#### This Below Code is Very Important"
   ]
  },
  {
   "cell_type": "code",
   "execution_count": null,
   "metadata": {
    "id": "OomsWzAnd80l"
   },
   "outputs": [],
   "source": [
    "# 11) Create a Calculator class with methods for addition, subtraction, multiplication, and division. Use this class to perform a series of calculations and print the results.\n",
    "\n",
    "class calc:\n",
    "  def __init__(self):\n",
    "    pass\n",
    "  def add(self, a,b):\n",
    "    return a+b\n",
    "  def sub(self, a,b):\n",
    "    return a-b\n",
    "  def mul(self, a,b):\n",
    "    return a*b\n",
    "  def div(self, a,b):\n",
    "    return a/b\n",
    "\n",
    "calculator  = calc()\n",
    "\n",
    "print(\"Select 1 For Add\")\n",
    "print(\"Select 2 For Sub\")\n",
    "print(\"Select 3 For Mul\")\n",
    "print(\"Select 4 For Div\")\n",
    "\n",
    "choice = int(input())\n",
    "\n",
    "if choice == 1:\n",
    "  temp1 = int(input(\"Enter First Number \"))\n",
    "  temp2 = int(input(\"Enter Second Number \"))\n",
    "  add = calculator.add(temp1, temp2)\n",
    "  print(\"Your Answer is \"+ str(add))\n",
    "\n",
    "elif choice == 2:\n",
    "  temp1 = int(input(\"Enter First Number \"))\n",
    "  temp2 = int(input(\"Enter Second Number \"))\n",
    "  sub = calculator.sub(temp1, temp2)\n",
    "  print(\"Your Answer is \"+ str(sub))\n",
    "\n",
    "elif choice == 3:\n",
    "  temp1 = int(input(\"Enter First Number \"))\n",
    "  temp2 = int(input(\"Enter Second Number \"))\n",
    "  mul= calculator.mul(temp1, temp2)\n",
    "  print(\"Your Answer is \"+ str(mul))\n",
    "\n",
    "elif choice == 4:\n",
    "  temp1 = int(input(\"Enter First Number \"))\n",
    "  temp2 = int(input(\"Enter Second Number \"))\n",
    "  div = calculator.div(temp1, temp2)\n",
    "  print(\"Your Answer is \"+ str(div))\n",
    "\n",
    "else:\n",
    "  print(\"Wrong Choice\")\n",
    "\n",
    "\n"
   ]
  },
  {
   "cell_type": "code",
   "execution_count": null,
   "metadata": {
    "id": "tABjxBzqh23s"
   },
   "outputs": [],
   "source": []
  }
 ],
 "metadata": {
  "colab": {
   "provenance": []
  },
  "kernelspec": {
   "display_name": "Python 3",
   "name": "python3"
  },
  "language_info": {
   "codemirror_mode": {
    "name": "ipython",
    "version": 3
   },
   "file_extension": ".py",
   "mimetype": "text/x-python",
   "name": "python",
   "nbconvert_exporter": "python",
   "pygments_lexer": "ipython3",
   "version": "3.11.2"
  }
 },
 "nbformat": 4,
 "nbformat_minor": 0
}
